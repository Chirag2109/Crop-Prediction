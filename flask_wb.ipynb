{
 "cells": [
  {
   "cell_type": "code",
   "execution_count": 1,
   "id": "59ac2b2f",
   "metadata": {},
   "outputs": [],
   "source": [
    "from flask import Flask\n",
    "from flask import request\n",
    "from flask import render_template\n",
    "import joblib"
   ]
  },
  {
   "cell_type": "code",
   "execution_count": null,
   "id": "d2d98b06",
   "metadata": {},
   "outputs": [
    {
     "name": "stdout",
     "output_type": "stream",
     "text": [
      " * Serving Flask app '__main__'\n",
      " * Debug mode: off\n"
     ]
    },
    {
     "name": "stderr",
     "output_type": "stream",
     "text": [
      "WARNING: This is a development server. Do not use it in a production deployment. Use a production WSGI server instead.\n",
      " * Running on http://127.0.0.1:5000\n",
      "Press CTRL+C to quit\n",
      "127.0.0.1 - - [19/Mar/2024 20:05:47] \"GET / HTTP/1.1\" 200 -\n",
      "C:\\Users\\Dell\\anaconda3\\Lib\\site-packages\\sklearn\\base.py:464: UserWarning: X does not have valid feature names, but SVC was fitted with feature names\n",
      "  warnings.warn(\n",
      "127.0.0.1 - - [19/Mar/2024 20:06:53] \"POST /results HTTP/1.1\" 200 -\n"
     ]
    }
   ],
   "source": [
    "app=Flask(__name__)\n",
    "m=joblib.load(\"crop_pred\")\n",
    "@app.route('/')\n",
    "def hello():\n",
    "    return render_template('cropindex.html')\n",
    "@app.route('/results', methods=[\"GET\", \"POST\"])\n",
    "def get_value():\n",
    "    if request.method==\"POST\":\n",
    "        n=float(request.form.get('n'))\n",
    "        p=float(request.form.get('p'))\n",
    "        k=float(request.form.get('k'))\n",
    "        tmp=float(request.form.get('tmp'))\n",
    "        hmd=float(request.form.get('hmd'))\n",
    "        ph=float(request.form.get('ph'))\n",
    "        rf=float(request.form.get('rf'))\n",
    "        predict=m.predict([[n, p, k, tmp, hmd, ph, rf]])\n",
    "    return render_template('cropresult.html', prediction=predict)\n",
    "if __name__==\"__main__\":\n",
    "    app.run()"
   ]
  },
  {
   "cell_type": "code",
   "execution_count": null,
   "id": "eeabbbdd",
   "metadata": {},
   "outputs": [],
   "source": []
  }
 ],
 "metadata": {
  "kernelspec": {
   "display_name": "Python 3 (ipykernel)",
   "language": "python",
   "name": "python3"
  },
  "language_info": {
   "codemirror_mode": {
    "name": "ipython",
    "version": 3
   },
   "file_extension": ".py",
   "mimetype": "text/x-python",
   "name": "python",
   "nbconvert_exporter": "python",
   "pygments_lexer": "ipython3",
   "version": "3.11.5"
  }
 },
 "nbformat": 4,
 "nbformat_minor": 5
}
